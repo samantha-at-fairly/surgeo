{
 "cells": [
  {
   "cell_type": "code",
   "execution_count": null,
   "metadata": {},
   "outputs": [],
   "source": [
    "# read cencus data and print the population of each county\n",
    "\n",
    "import csv\n",
    "from collections import defaultdict\n",
    "\n",
    "def read_census_data(filename):\n",
    "    data = defaultdict(int)\n",
    "    with open(filename, 'r'):\n",
    "        reader = csv.reader(f)\n",
    "        for row in reader:\n",
    "            data[row[5]] += int(row[6])\n",
    "    return data\n",
    "\n",
    "def main():\n",
    "    census_data = read_census_data('census.csv')\n",
    "    for county, population in census_data.items():\n",
    "        print(f'{county}: {population}')\n",
    "\n",
    "if __name__ == '__main__':\n",
    "    main()"
   ]
  },
  {
   "cell_type": "code",
   "execution_count": 27,
   "metadata": {},
   "outputs": [
    {
     "name": "stdout",
     "output_type": "stream",
     "text": [
      "           Name   White    Black       Api    Native  Multiple  Hispanic\n",
      "127185       AA  0.4919  0.20970  0.177400  0.008100  0.008100  0.104800\n",
      "134036      AAB  0.9569  0.00000  0.010775  0.010775  0.010775  0.010775\n",
      "40464    AABERG  0.9489  0.00000  0.004950  0.021600  0.019600  0.004950\n",
      "82018      AABY  0.9953  0.00000  0.000000  0.000000  0.002350  0.002350\n",
      "55375   AADLAND  0.9164  0.00435  0.014400  0.031700  0.028800  0.004350\n"
     ]
    }
   ],
   "source": [
    "# Step 1: Ensure pandas is installed (usually done outside the script, e.g., using pip)\n",
    "\n",
    "# pip install pandas\n",
    "# Step 2: Import pandas\n",
    "import pandas as pd\n",
    "\n",
    "# Step 3: Use read_stata to load a .dta file\n",
    "data = pd.read_stata('2024/census_surnames_lower.dta')\n",
    "\n",
    "data.rename(columns={'Name': 'name'}, inplace=True)\n",
    "data.rename(columns={'pctwhite': 'White'}, inplace=True)\n",
    "data.rename(columns={'pctblack': 'Black'}, inplace=True)\n",
    "data.rename(columns={'pctapi': 'Api'}, inplace=True)\n",
    "data.rename(columns={'pctaian': 'Native'}, inplace=True)\n",
    "data.rename(columns={'pct2prace': 'Multiple'}, inplace=True)\n",
    "data.rename(columns={'pcthispanic': 'Hispanic'}, inplace=True)\n",
    "\n",
    "data.drop(columns=['rank', 'count', 'prop100k', 'cum_prop100k', 'countmiss', 'remaining'], inplace=True)\n",
    "data['name'] = data['name'].str.upper()\n",
    "data = data.sort_values(by='name')\n",
    "\n",
    "\n",
    "# Step 4: Inspect the data (optional)\n",
    "print(data.head())  # Prints the first few rows of the dataframe\n",
    "\n",
    "data.to_csv('2024/census_surnames_lower.csv', index=False)"
   ]
  },
  {
   "cell_type": "code",
   "execution_count": 24,
   "metadata": {},
   "outputs": [
    {
     "name": "stdout",
     "output_type": "stream",
     "text": [
      "          name      geo_id_raw  ZCTA5 State_FIPS20 County_FIPS20  Total_Pop  \\\n",
      "0  ZCTA5 00601  860Z200US00601  00601                                 14157   \n",
      "1  ZCTA5 00602  860Z200US00602  00602                                 31500   \n",
      "2  ZCTA5 00603  860Z200US00603  00603                                 41255   \n",
      "3  ZCTA5 00606  860Z200US00606  00606                                  4135   \n",
      "4  ZCTA5 00610  860Z200US00610  00610                                 21563   \n",
      "\n",
      "   Hispanic_Total  Non_Hispanic_Total  NH_White_alone  NH_Black_alone  ...  \\\n",
      "0           14104                  53              37               1  ...   \n",
      "1           31258                 242             190              10  ...   \n",
      "2           40571                 684             490              68  ...   \n",
      "3            4103                  32              26               1  ...   \n",
      "4           21373                 190             141              14  ...   \n",
      "\n",
      "   NH_Asian_HPI  NH_Asian_HPI_Other  NH_API_Other      Whte     Black  \\\n",
      "0             0                   0           0.0  0.002614  0.000071   \n",
      "1             0                   0           0.0  0.006032  0.000317   \n",
      "2             0                   0           0.0  0.011877  0.001648   \n",
      "3             0                   0           0.0  0.006288  0.000242   \n",
      "4             0                   0           0.0  0.006539  0.000649   \n",
      "\n",
      "        Api    Native  Hispanic  Multiple_Sum  Multiple  \n",
      "0  0.000000  0.000000  0.996256            22  0.001554  \n",
      "1  0.000317  0.000000  0.992317            38  0.001206  \n",
      "2  0.001042  0.000121  0.983420            97  0.002351  \n",
      "3  0.000000  0.000000  0.992261             6  0.001451  \n",
      "4  0.000417  0.000000  0.991189            34  0.001577  \n",
      "\n",
      "[5 rows x 27 columns]\n"
     ]
    }
   ],
   "source": [
    "import pandas as pd\n",
    "\n",
    "# Step 3: Use read_stata to load a .dta file\n",
    "data = pd.read_stata('2024/zip_over18_race_jan20.dta')\n",
    "# Step 4: Inspect the data (optional)\n",
    "\n",
    "\n",
    "data['Whte'] = data['NH_White_alone'] / data['Total_Pop']\n",
    "data['Black'] = data['NH_Black_alone'] / data['Total_Pop']\n",
    "data['Api'] = data['NH_API_alone'] / data['Total_Pop']\n",
    "data['Native'] = data['NH_AIAN_alone'] / data['Total_Pop']\n",
    "data['Hispanic'] = data['Hispanic_Total'] / data['Total_Pop']\n",
    "\n",
    "data['Multiple_Sum'] = data['NH_Other_alone'] + data['NH_Mult_Total'] + data['NH_White_Other'] + data['NH_Black_Other'] + data['NH_Asian_HPI'] + data['NH_AIAN_Other'] + data['NH_Asian_HPI_Other'] + data['NH_Asian_HPI_Other']\n",
    "data['Multiple'] = data['Multiple_Sum'] / data['Total_Pop']\n",
    "\n",
    "zctac = pd.DataFrame()\n",
    "zctac['Zcta5'] = data['ZCTA5']\n",
    "zctac['White'] = data['Whte']\n",
    "zctac['Black'] = data['Black']\n",
    "zctac['Api'] = data['Api']\n",
    "zctac['Native'] = data['Native']\n",
    "zctac['Multiple'] = data['Multiple']\n",
    "zctac['Hispanic'] = data['Hispanic']\n",
    "\n",
    "\n",
    "zctac.to_csv('2024/zip_over18_race_jan20.csv', index=False)\n",
    "print(data.head())  # Prints the first few rows of the dataframe"
   ]
  }
 ],
 "metadata": {
  "kernelspec": {
   "display_name": "venv",
   "language": "python",
   "name": "python3"
  },
  "language_info": {
   "codemirror_mode": {
    "name": "ipython",
    "version": 3
   },
   "file_extension": ".py",
   "mimetype": "text/x-python",
   "name": "python",
   "nbconvert_exporter": "python",
   "pygments_lexer": "ipython3",
   "version": "3.10.13"
  }
 },
 "nbformat": 4,
 "nbformat_minor": 2
}
