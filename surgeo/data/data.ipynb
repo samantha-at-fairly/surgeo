{
 "cells": [
  {
   "cell_type": "code",
   "execution_count": null,
   "metadata": {},
   "outputs": [],
   "source": [
    "# read cencus data and print the population of each county\n",
    "\n",
    "import csv\n",
    "from collections import defaultdict\n",
    "\n",
    "def read_census_data(filename):\n",
    "    data = defaultdict(int)\n",
    "    with open(filename, 'r'):\n",
    "        reader = csv.reader(f)\n",
    "        for row in reader:\n",
    "            data[row[5]] += int(row[6])\n",
    "    return data\n",
    "\n",
    "def main():\n",
    "    census_data = read_census_data('census.csv')\n",
    "    for county, population in census_data.items():\n",
    "        print(f'{county}: {population}')\n",
    "\n",
    "if __name__ == '__main__':\n",
    "    main()"
   ]
  },
  {
   "cell_type": "code",
   "execution_count": 11,
   "metadata": {},
   "outputs": [
    {
     "ename": "TypeError",
     "evalue": "Series.sort_values() got an unexpected keyword argument 'by'",
     "output_type": "error",
     "traceback": [
      "\u001b[0;31m---------------------------------------------------------------------------\u001b[0m",
      "\u001b[0;31mTypeError\u001b[0m                                 Traceback (most recent call last)",
      "Cell \u001b[0;32mIn[11], line 20\u001b[0m\n\u001b[1;32m     18\u001b[0m data\u001b[38;5;241m.\u001b[39mdrop(columns\u001b[38;5;241m=\u001b[39m[\u001b[38;5;124m'\u001b[39m\u001b[38;5;124mrank\u001b[39m\u001b[38;5;124m'\u001b[39m, \u001b[38;5;124m'\u001b[39m\u001b[38;5;124mcount\u001b[39m\u001b[38;5;124m'\u001b[39m, \u001b[38;5;124m'\u001b[39m\u001b[38;5;124mprop100k\u001b[39m\u001b[38;5;124m'\u001b[39m, \u001b[38;5;124m'\u001b[39m\u001b[38;5;124mcum_prop100k\u001b[39m\u001b[38;5;124m'\u001b[39m], inplace\u001b[38;5;241m=\u001b[39m\u001b[38;5;28;01mTrue\u001b[39;00m)\n\u001b[1;32m     19\u001b[0m data[\u001b[38;5;124m'\u001b[39m\u001b[38;5;124mName\u001b[39m\u001b[38;5;124m'\u001b[39m] \u001b[38;5;241m=\u001b[39m data[\u001b[38;5;124m'\u001b[39m\u001b[38;5;124mName\u001b[39m\u001b[38;5;124m'\u001b[39m]\u001b[38;5;241m.\u001b[39mstr\u001b[38;5;241m.\u001b[39mupper()\n\u001b[0;32m---> 20\u001b[0m data[\u001b[38;5;124m'\u001b[39m\u001b[38;5;124mName\u001b[39m\u001b[38;5;124m'\u001b[39m] \u001b[38;5;241m=\u001b[39m \u001b[43mdata\u001b[49m\u001b[43m[\u001b[49m\u001b[38;5;124;43m'\u001b[39;49m\u001b[38;5;124;43mName\u001b[39;49m\u001b[38;5;124;43m'\u001b[39;49m\u001b[43m]\u001b[49m\u001b[38;5;241;43m.\u001b[39;49m\u001b[43msort_values\u001b[49m\u001b[43m(\u001b[49m\u001b[43mby\u001b[49m\u001b[38;5;241;43m=\u001b[39;49m\u001b[38;5;124;43m'\u001b[39;49m\u001b[38;5;124;43mName\u001b[39;49m\u001b[38;5;124;43m'\u001b[39;49m\u001b[43m)\u001b[49m\n\u001b[1;32m     23\u001b[0m \u001b[38;5;66;03m# Step 4: Inspect the data (optional)\u001b[39;00m\n\u001b[1;32m     24\u001b[0m \u001b[38;5;28mprint\u001b[39m(data\u001b[38;5;241m.\u001b[39mhead())  \u001b[38;5;66;03m# Prints the first few rows of the dataframe\u001b[39;00m\n",
      "\u001b[0;31mTypeError\u001b[0m: Series.sort_values() got an unexpected keyword argument 'by'"
     ]
    }
   ],
   "source": [
    "# Step 1: Ensure pandas is installed (usually done outside the script, e.g., using pip)\n",
    "\n",
    "# pip install pandas\n",
    "# Step 2: Import pandas\n",
    "import pandas as pd\n",
    "\n",
    "# Step 3: Use read_stata to load a .dta file\n",
    "data = pd.read_stata('census_surnames_lower.dta')\n",
    "\n",
    "data.rename(columns={'name': 'Name'}, inplace=True)\n",
    "data.rename(columns={'pctwhite': 'White'}, inplace=True)\n",
    "data.rename(columns={'pctblack': 'Black'}, inplace=True)\n",
    "data.rename(columns={'pctapi': 'Api'}, inplace=True)\n",
    "data.rename(columns={'pctaian': 'Aian'}, inplace=True)\n",
    "data.rename(columns={'pct2prace': 'Multiple'}, inplace=True)\n",
    "data.rename(columns={'pcthispanic': 'Hispanic'}, inplace=True)\n",
    "\n",
    "data.drop(columns=['rank', 'count', 'prop100k', 'cum_prop100k'], inplace=True)\n",
    "data['Name'] = data['Name'].str.upper()\n",
    "data = data.sort_values(by='Name')\n",
    "\n",
    "\n",
    "# Step 4: Inspect the data (optional)\n",
    "print(data.head())  # Prints the first few rows of the dataframe\n",
    "\n",
    "data.to_csv('census_surnames_lower.csv', index=False)"
   ]
  }
 ],
 "metadata": {
  "kernelspec": {
   "display_name": "venv",
   "language": "python",
   "name": "python3"
  },
  "language_info": {
   "codemirror_mode": {
    "name": "ipython",
    "version": 3
   },
   "file_extension": ".py",
   "mimetype": "text/x-python",
   "name": "python",
   "nbconvert_exporter": "python",
   "pygments_lexer": "ipython3",
   "version": "3.10.13"
  }
 },
 "nbformat": 4,
 "nbformat_minor": 2
}
